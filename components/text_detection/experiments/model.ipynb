{
 "cells": [
  {
   "cell_type": "code",
   "execution_count": null,
   "metadata": {},
   "outputs": [],
   "source": [
    "from fastai.vision import unet_learner, imagenet_stats, torch, Path, os, load_learner, models, sys, Learner, partial, flatten_model, requires_grad, bn_types, defaults\n",
    "from experiments import getDatasets, getData, random_seed\n",
    "from losses import MixedLoss\n",
    "from metrics import MetricsCallback, getDatasetMetrics\n",
    "from fastai.callbacks import CSVLogger, SaveModelCallback\n",
    "from config import *\n",
    "sys.path.append('../../text-segmentation')\n",
    "\n",
    "%load_ext autoreload\n",
    "%autoreload 2\n",
    "\n",
    "from models.text_segmentation import TextSegament, XceptionTextSegment\n",
    "\n",
    "torch.cuda.set_device(0)"
   ]
  },
  {
   "cell_type": "code",
   "execution_count": null,
   "metadata": {},
   "outputs": [],
   "source": [
    "EXPERIMENT_PATH = Path(EXPERIMENTS_PATH) / 'model'\n",
    "MODELS_PATH = EXPERIMENT_PATH / \"models\"\n",
    "os.makedirs(MODELS_PATH, exist_ok=True)"
   ]
  },
  {
   "cell_type": "code",
   "execution_count": null,
   "metadata": {},
   "outputs": [],
   "source": [
    "allData = getData()"
   ]
  },
  {
   "cell_type": "code",
   "execution_count": null,
   "metadata": {},
   "outputs": [],
   "source": [
    "props = {'bs': 4, 'val_bs': 2, 'num_workers': 0}\n",
    "modelDict = {'resnet34': models.resnet34, 'xception': XceptionTextSegment(), 'segament': TextSegament()}\n",
    "propsOverride = {\n",
    "    'xception': {'bs': 2},\n",
    "    'segament': {'bs': 2}\n",
    "}"
   ]
  },
  {
   "cell_type": "code",
   "execution_count": null,
   "metadata": {
    "scrolled": false
   },
   "outputs": [],
   "source": [
    "for name, model in list(modelDict.items()):\n",
    "    for index, dataset in enumerate(getDatasets(allData)):\n",
    "        PATH = EXPERIMENT_PATH / name / str(index)    \n",
    "        if not (PATH / 'final model.pkl').exists():\n",
    "            overrides = {} if name not in propsOverride else propsOverride[name]\n",
    "            random_seed(42)\n",
    "            data = dataset.databunch(**{**props, **overrides}).normalize(imagenet_stats)\n",
    "            func = Learner if name in [\"xception\", \"segament\"] else unet_learner\n",
    "            random_seed(42)\n",
    "            learn = func(data, model, callback_fns=[MetricsCallback, CSVLogger], model_dir='models', loss_func=MixedLoss(0, 1), path=PATH)\n",
    "            random_seed(42)\n",
    "            learn.fit_one_cycle(10, 1e-4)\n",
    "            learn.save('model')\n",
    "            learn.export(file='final model.pkl')\n",
    "    for index, dataset in enumerate(getDatasets(allData, crop=False, cutInHalf=False)): \n",
    "        PATH = EXPERIMENT_PATH / name / str(index)    \n",
    "        if not (PATH / 'final predictions.csv').exists():\n",
    "            learn = load_learner(PATH, 'final model.pkl')\n",
    "            random_seed(42)\n",
    "            m = getDatasetMetrics(dataset, learn)\n",
    "            m.save(PATH / 'final predictions.csv')"
   ]
  },
  {
   "cell_type": "code",
   "execution_count": null,
   "metadata": {
    "scrolled": true
   },
   "outputs": [],
   "source": [
    "import segmentation_models_pytorch as smp\n",
    "\n",
    "props = {'bs': 4, 'val_bs': 2, 'num_workers': 0}\n",
    "models = ['resnet50', 'dpn68', 'vgg16', 'densenet169', 'efficientnet-b4']\n",
    "propsOverride = {}\n",
    "archs = [smp.Unet, smp.Linknet, smp.FPN, smp.PSPNet, smp.PAN]\n",
    "for arch in archs:\n",
    "    for model in models:\n",
    "        if model in ['vgg16', 'densenet169'] and smp.PAN == arch: #not supported\n",
    "            continue\n",
    "        for index, dataset in enumerate(getDatasets(allData, padding = 16)):\n",
    "            PATH = EXPERIMENT_PATH / (model + ' ' + arch.__name__) / str(index) \n",
    "            if not (PATH / 'final model.pkl').exists():\n",
    "                overrides = {} if model not in propsOverride else propsOverride[model]\n",
    "                random_seed(42)\n",
    "                data = dataset.databunch(**{**props, **overrides}).normalize(imagenet_stats)\n",
    "                random_seed(42)\n",
    "                learn = Learner(data, arch(model, encoder_weights='imagenet'), callback_fns=[MetricsCallback, CSVLogger, partial(SaveModelCallback, monitor=\"ignore global f1 score %\")], model_dir='models', loss_func=MixedLoss(0, 1), path=PATH)\n",
    "                random_seed(42)\n",
    "                #freeze encoder, still not implemented in smp\n",
    "                if hasattr(learn.model, 'reset'): learn.model.reset()\n",
    "                for l in flatten_model(learn.model.encoder):\n",
    "                    requires_grad(l, isinstance(l, bn_types))\n",
    "                learn.create_opt(defaults.lr)\n",
    "                random_seed(42)\n",
    "                learn.fit_one_cycle(10, 1e-4)\n",
    "                learn.save('model')\n",
    "                learn.export(file='final model.pkl')\n",
    "        for index, dataset in enumerate(getDatasets(allData, crop=False, cutInHalf=False, padding = 16)):\n",
    "            PATH = EXPERIMENT_PATH / (model + ' ' + arch.__name__) / str(index) \n",
    "            if not (PATH / 'final predictions.csv').exists():\n",
    "                learn = load_learner(PATH, 'final model.pkl')\n",
    "                random_seed(42)\n",
    "                m = getDatasetMetrics(dataset, learn)\n",
    "                m.save(PATH / 'final predictions.csv')                "
   ]
  },
  {
   "cell_type": "code",
   "execution_count": null,
   "metadata": {},
   "outputs": [],
   "source": [
    "PATH = EXPERIMENT_PATH / 'xception'  \n",
    "for index, dataset in enumerate(getDatasets(allData, crop=False, cutInHalf = False)):\n",
    "    learn = load_learner(PATH / str(index)  , 'final model.pkl')\n",
    "\n",
    "    for idx in range(len(dataset.valid.x.items)):\n",
    "        img = dataset.valid.x.items[idx]\n",
    "        TENSOR_PATH = PATH / 'predictions' / img.parent.name / img.name.replace(path.suffix, '.pt')\n",
    "        (PATH / 'predictions' / img.parent.name).mkdir(parents=True, exist_ok=True) \n",
    "        if not (TENSOR_PATH).exists():\n",
    "            pred = learn.predict(dataset.valid.x.get(idx, False))[2]\n",
    "            torch.save(pred, TENSOR_PATH)   "
   ]
  }
 ],
 "metadata": {
  "kernelspec": {
   "display_name": "Python 3",
   "language": "python",
   "name": "python3"
  },
  "language_info": {
   "codemirror_mode": {
    "name": "ipython",
    "version": 3
   },
   "file_extension": ".py",
   "mimetype": "text/x-python",
   "name": "python",
   "nbconvert_exporter": "python",
   "pygments_lexer": "ipython3",
   "version": "3.7.3"
  }
 },
 "nbformat": 4,
 "nbformat_minor": 2
}
