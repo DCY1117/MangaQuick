{
 "cells": [
  {
   "cell_type": "code",
   "execution_count": 1,
   "metadata": {},
   "outputs": [],
   "source": [
    "import fastai\n",
    "from fastai.vision import *\n",
    "from experiments import *\n",
    "from losses import *\n",
    "from dataset import *\n",
    "from metrics import *\n",
    "from config import *\n",
    "from fastai.callbacks import CSVLogger\n",
    "\n",
    "%load_ext autoreload\n",
    "%autoreload 2\n",
    "\n",
    "torch.cuda.set_device(0)"
   ]
  },
  {
   "cell_type": "code",
   "execution_count": 2,
   "metadata": {},
   "outputs": [],
   "source": [
    "random_seed(42)\n",
    "allData = (SegItemListCustom.from_folder(MANGA109_PATH)\n",
    "       .filter_by_func(lambda x: Path(get_segmentation(x)).exists() and Path(x).parent.name in (trainFolders)))"
   ]
  },
  {
   "cell_type": "code",
   "execution_count": 3,
   "metadata": {},
   "outputs": [],
   "source": [
    "props = {'bs': 4, 'val_bs': 2, 'num_workers': 0}\n",
    "paths = ['model/resnet34', 'loss/dice']"
   ]
  },
  {
   "cell_type": "code",
   "execution_count": 4,
   "metadata": {},
   "outputs": [],
   "source": [
    "def isNotCsvLogger(c):\n",
    "    if hasattr(c, '__name__') and c.__name__ == 'CSVLogger':\n",
    "        return False\n",
    "    if hasattr(c, 'func'):\n",
    "        return isNotCsvLogger(c.func)\n",
    "    return True"
   ]
  },
  {
   "cell_type": "code",
   "execution_count": 5,
   "metadata": {
    "scrolled": false
   },
   "outputs": [],
   "source": [
    "for path in paths:\n",
    "    for index, dataset in enumerate(getDatasets(allData)):\n",
    "        MODEL_PATH = Path(EXPERIMENTS_PATH) / path / str(index)\n",
    "        if not (MODEL_PATH / 'final refined model.pkl').exists():\n",
    "            random_seed(42)\n",
    "            data = dataset.databunch(**props).normalize(imagenet_stats)\n",
    "            random_seed(42)\n",
    "            learn = load_learner(MODEL_PATH, 'final model.pkl')\n",
    "            random_seed(42)\n",
    "            learn.callback_fns = list(filter(isNotCsvLogger, learn.callback_fns)) + [partial(CSVLogger, filename = 'refined history')]\n",
    "            learn.data = data\n",
    "            learn.unfreeze()\n",
    "            random_seed(42)\n",
    "            learn.fit_one_cycle(5, 1e-4)\n",
    "            learn.save('refined model')\n",
    "            learn.export(file='final refined model.pkl')\n",
    "    for index, dataset in enumerate(getDatasets(allData, crop=False, cutInHalf=False)):\n",
    "        MODEL_PATH = Path(EXPERIMENTS_PATH) / path / str(index)            \n",
    "        if not (MODEL_PATH / 'final refined model 2.pkl').exists():   \n",
    "            random_seed(42)\n",
    "            data = dataset.databunch(bs=1, val_bs = 1, num_workers=0).normalize(imagenet_stats)\n",
    "            learn = load_learner(MODEL_PATH, 'final refined model.pkl')\n",
    "            learn.callback_fns = list(filter(isNotCsvLogger, learn.callback_fns)) + [partial(CSVLogger, filename = 'refined history 2')]\n",
    "            learn.data = data\n",
    "            learn.unfreeze()\n",
    "            random_seed(42)\n",
    "            learn.fit_one_cycle(3, 1e-4)\n",
    "            learn.save('refined model 2')\n",
    "            learn.export(file='final refined model 2.pkl')\n",
    "            \n",
    "        if not (MODEL_PATH / 'final refined predictions.csv').exists():\n",
    "            learn = load_learner(MODEL_PATH, 'final refined model.pkl')\n",
    "            random_seed(42)\n",
    "            m = getDatasetMetrics(dataset, learn)\n",
    "            m.save(MODEL_PATH / 'final refined predictions.csv')\n",
    "            \n",
    "        if not (MODEL_PATH / 'final refined predictions 2.csv').exists():\n",
    "            learn = load_learner(MODEL_PATH, 'final refined model 2.pkl')\n",
    "            random_seed(42)\n",
    "            m = getDatasetMetrics(dataset, learn)    \n",
    "            m.save(MODEL_PATH / 'final refined predictions 2.csv')"
   ]
  },
  {
   "cell_type": "code",
   "execution_count": null,
   "metadata": {},
   "outputs": [],
   "source": []
  }
 ],
 "metadata": {
  "kernelspec": {
   "display_name": "Python 3",
   "language": "python",
   "name": "python3"
  },
  "language_info": {
   "codemirror_mode": {
    "name": "ipython",
    "version": 3
   },
   "file_extension": ".py",
   "mimetype": "text/x-python",
   "name": "python",
   "nbconvert_exporter": "python",
   "pygments_lexer": "ipython3",
   "version": "3.7.3"
  }
 },
 "nbformat": 4,
 "nbformat_minor": 2
}
