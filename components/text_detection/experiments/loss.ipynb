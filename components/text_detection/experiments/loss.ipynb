{
 "cells": [
  {
   "cell_type": "code",
   "execution_count": null,
   "metadata": {},
   "outputs": [],
   "source": [
    "from fastai.vision import unet_learner, imagenet_stats, torch, Path, os, load_learner, models\n",
    "from experiments import getDatasets, getData, random_seed\n",
    "from losses import BCELoss, MixedLoss\n",
    "from metrics import MetricsCallback, getDatasetMetrics\n",
    "from fastai.callbacks import CSVLogger\n",
    "from config import *\n",
    "\n",
    "%load_ext autoreload\n",
    "%autoreload 2\n",
    "\n",
    "torch.cuda.set_device(0)"
   ]
  },
  {
   "cell_type": "code",
   "execution_count": null,
   "metadata": {},
   "outputs": [],
   "source": [
    "EXPERIMENT_PATH = Path(EXPERIMENTS_PATH) / 'loss'\n",
    "MODELS_PATH = EXPERIMENT_PATH / \"models\"\n",
    "os.makedirs(MODELS_PATH, exist_ok=True)"
   ]
  },
  {
   "cell_type": "code",
   "execution_count": null,
   "metadata": {},
   "outputs": [],
   "source": [
    "allData = getData()"
   ]
  },
  {
   "cell_type": "code",
   "execution_count": null,
   "metadata": {},
   "outputs": [],
   "source": [
    "props = {'bs': 4, 'val_bs': 2, 'num_workers': 0}\n",
    "losses = {'bce0.5':  BCELoss(0.5), 'bce1': BCELoss(1), 'bce5': BCELoss(5), 'bce10': BCELoss(10), 'bce30': BCELoss(30), \n",
    "          'mixed_10_2': MixedLoss(10.0, 2.0), 'mixed_10_1': MixedLoss(10.0, 1.0),\n",
    "          'mixed_5_2': MixedLoss(5.0, 2.0), 'mixed_5_1': MixedLoss(5.0, 1.0),\n",
    "          'mixed_5_2': MixedLoss(2.0, 2.0), 'mixed_5_1': MixedLoss(2.0, 1.0),\n",
    "          'dice': MixedLoss(0.0, 1.0)\n",
    "         }"
   ]
  },
  {
   "cell_type": "code",
   "execution_count": null,
   "metadata": {
    "scrolled": false
   },
   "outputs": [],
   "source": [
    "for name, loss in losses.items():\n",
    "    for index, dataset in enumerate(getDatasets(allData)):\n",
    "        PATH = EXPERIMENT_PATH / name / str(index)\n",
    "        if not (PATH / 'final model.pkl').exists():\n",
    "            random_seed(42)\n",
    "            data = dataset.databunch(**props).normalize(imagenet_stats)\n",
    "            random_seed(42)\n",
    "            learn = unet_learner(data, models.resnet18, callback_fns=[MetricsCallback, CSVLogger], model_dir='models', loss_func=loss, path=PATH)\n",
    "            random_seed(42)\n",
    "            learn.fit_one_cycle(10, 1e-4)\n",
    "            learn.save('model')\n",
    "            learn.export(file='final model.pkl')\n",
    "    for index, dataset in enumerate(getDatasets(allData, crop=False, cutInHalf=False)):   \n",
    "        PATH = EXPERIMENT_PATH / name / str(index)\n",
    "        if not (PATH / 'final predictions.csv').exists():\n",
    "            learn = load_learner(PATH, 'final model.pkl')\n",
    "            random_seed(42)\n",
    "            m = getDatasetMetrics(dataset, learn)\n",
    "            m.save(PATH / 'final predictions.csv')"
   ]
  }
 ],
 "metadata": {
  "kernelspec": {
   "display_name": "Python 3",
   "language": "python",
   "name": "python3"
  },
  "language_info": {
   "codemirror_mode": {
    "name": "ipython",
    "version": 3
   },
   "file_extension": ".py",
   "mimetype": "text/x-python",
   "name": "python",
   "nbconvert_exporter": "python",
   "pygments_lexer": "ipython3",
   "version": "3.7.3"
  }
 },
 "nbformat": 4,
 "nbformat_minor": 2
}
