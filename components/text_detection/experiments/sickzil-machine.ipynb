{
 "cells": [
  {
   "cell_type": "code",
   "execution_count": null,
   "metadata": {},
   "outputs": [],
   "source": [
    "from experiments import getDatasets, getData, random_seed\n",
    "from metrics import MetricsCallback, getDatasetMetrics\n",
    "from config import *\n",
    "from pathlib import Path\n",
    "\n",
    "%load_ext autoreload\n",
    "%autoreload 2"
   ]
  },
  {
   "cell_type": "code",
   "execution_count": null,
   "metadata": {},
   "outputs": [],
   "source": [
    "allData = getData()"
   ]
  },
  {
   "cell_type": "code",
   "execution_count": null,
   "metadata": {},
   "outputs": [],
   "source": [
    "CSV_PATH = Path(EXPERIMENTS_PATH) / 'sickzil' / 'metrics.csv'\n",
    "\n",
    "if not (CSV_PATH).exists():\n",
    "    for index, dataset in enumerate(getDatasets(allData, crop=False, cutInHalf = False)):\n",
    "        random_seed(42)\n",
    "        m = MetricsCallback(None)\n",
    "        m.on_train_begin()\n",
    "        for idx in range(len(dataset.valid.x.items)):\n",
    "            pred = dataset.valid.y.sickzilImage(idx) \n",
    "            m.on_batch_end(False, pred.px, dataset.valid.y[idx].px)\n",
    "        m.calculateMetrics()\n",
    "        m.save(CSV_PATH, index > 0)            "
   ]
  }
 ],
 "metadata": {
  "kernelspec": {
   "display_name": "Python 3",
   "language": "python",
   "name": "python3"
  },
  "language_info": {
   "codemirror_mode": {
    "name": "ipython",
    "version": 3
   },
   "file_extension": ".py",
   "mimetype": "text/x-python",
   "name": "python",
   "nbconvert_exporter": "python",
   "pygments_lexer": "ipython3",
   "version": "3.7.3"
  }
 },
 "nbformat": 4,
 "nbformat_minor": 2
}
