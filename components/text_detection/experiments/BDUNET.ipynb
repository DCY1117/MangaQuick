{
 "cells": [
  {
   "cell_type": "code",
   "execution_count": 1,
   "metadata": {},
   "outputs": [],
   "source": [
    "import glob\n",
    "from pathlib import Path\n",
    "from experiments import *\n",
    "from metrics import *\n",
    "from config import *\n",
    "from fastai.vision import *\n",
    "from dataset import pad_tensor, addIgnore\n",
    "\n",
    "%load_ext autoreload\n",
    "%autoreload 2"
   ]
  },
  {
   "cell_type": "code",
   "execution_count": 32,
   "metadata": {},
   "outputs": [],
   "source": [
    "random_seed(42)\n",
    "CSV_PATH = EXPERIMENTS_PATH + '/BDUNET/predictions.csv'\n",
    "\n",
    "folds = list(KFold(n_splits = 5, shuffle = True, random_state=42).split(trainFolders, trainFolders))\n",
    "\n",
    "for idx, (_, valid_indexes) in enumerate(folds):\n",
    "    if idx not in [1, 2]:\n",
    "        m = MetricsCallback(None)\n",
    "        m.on_train_begin() \n",
    "        images = []\n",
    "        for f in glob.glob(MASKS_PATH + \"/**/*.cache\"):\n",
    "            index = trainFolders.index(Path(f).parent.name)\n",
    "            if index in valid_indexes:\n",
    "                pred = open_mask(BDUNET_PATH + '/' + Path(f).parent.name + '/' + Path(f).stem + '.png')\n",
    "                pred.px = pred.px != 0\n",
    "                seg = open_mask(f)\n",
    "                m.on_batch_end(False, pad_tensor(pred.px, 8), seg.px[:, 0:pred.px.shape[1], 0:pred.px.shape[2]])\n",
    "        m.calculateMetrics()\n",
    "        m.save(CSV_PATH, idx > 0)"
   ]
  },
  {
   "cell_type": "code",
   "execution_count": null,
   "metadata": {},
   "outputs": [],
   "source": []
  }
 ],
 "metadata": {
  "kernelspec": {
   "display_name": "Python 3",
   "language": "python",
   "name": "python3"
  },
  "language_info": {
   "codemirror_mode": {
    "name": "ipython",
    "version": 3
   },
   "file_extension": ".py",
   "mimetype": "text/x-python",
   "name": "python",
   "nbconvert_exporter": "python",
   "pygments_lexer": "ipython3",
   "version": "3.7.3"
  }
 },
 "nbformat": 4,
 "nbformat_minor": 4
}
