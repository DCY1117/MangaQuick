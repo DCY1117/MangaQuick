{
 "cells": [
  {
   "cell_type": "code",
   "execution_count": null,
   "metadata": {
    "colab": {
     "base_uri": "https://localhost:8080/"
    },
    "executionInfo": {
     "elapsed": 3334,
     "status": "ok",
     "timestamp": 1733504295329,
     "user": {
      "displayName": "Jiayun Liu",
      "userId": "16866032985979885782"
     },
     "user_tz": -60
    },
    "id": "P6CUk137Imr0",
    "outputId": "0f99f45f-03e3-4abd-bf6e-02a0f7db03bf"
   },
   "outputs": [],
   "source": [
    "from google.colab import drive\n",
    "drive.mount('/content/gdrive')"
   ]
  },
  {
   "cell_type": "code",
   "execution_count": null,
   "metadata": {
    "colab": {
     "base_uri": "https://localhost:8080/"
    },
    "executionInfo": {
     "elapsed": 1,
     "status": "ok",
     "timestamp": 1733504295861,
     "user": {
      "displayName": "Jiayun Liu",
      "userId": "16866032985979885782"
     },
     "user_tz": -60
    },
    "id": "YGzqH7pzIoIA",
    "outputId": "2819a10d-af0b-4c7e-8aad-63867095b735"
   },
   "outputs": [],
   "source": [
    "# Navigate to the repository directory\n",
    "%cd /content/gdrive/MyDrive/Test/MangaQuick-main"
   ]
  },
  {
   "cell_type": "code",
   "execution_count": null,
   "metadata": {
    "colab": {
     "base_uri": "https://localhost:8080/"
    },
    "executionInfo": {
     "elapsed": 771,
     "status": "ok",
     "timestamp": 1733504301469,
     "user": {
      "displayName": "Jiayun Liu",
      "userId": "16866032985979885782"
     },
     "user_tz": -60
    },
    "id": "AK_ZVwswL16G",
    "outputId": "e726ff05-402c-44a5-a228-fc70439a7b77"
   },
   "outputs": [],
   "source": [
    "!pwd"
   ]
  },
  {
   "cell_type": "code",
   "execution_count": null,
   "metadata": {
    "colab": {
     "base_uri": "https://localhost:8080/",
     "height": 1000
    },
    "executionInfo": {
     "elapsed": 55044,
     "status": "ok",
     "timestamp": 1733503835559,
     "user": {
      "displayName": "Jiayun Liu",
      "userId": "16866032985979885782"
     },
     "user_tz": -60
    },
    "id": "v1zlfKX5LkFn",
    "outputId": "7fa4137d-f42e-4ae6-efa5-97c41586b2b7"
   },
   "outputs": [],
   "source": [
    "# Restart session after installing dependencies\n",
    "!pip install -r requirements.txt"
   ]
  },
  {
   "cell_type": "code",
   "execution_count": null,
   "metadata": {
    "colab": {
     "base_uri": "https://localhost:8080/"
    },
    "executionInfo": {
     "elapsed": 16073,
     "status": "ok",
     "timestamp": 1733503851628,
     "user": {
      "displayName": "Jiayun Liu",
      "userId": "16866032985979885782"
     },
     "user_tz": -60
    },
    "id": "_z819jUpLvQW",
    "outputId": "2d2a426d-61f5-47ef-8237-f6ff750574c6"
   },
   "outputs": [],
   "source": [
    "# Follow the steps outlined in the \"Text segmentation model\" section of the GitHub README\n",
    "!curl -LJO https://huggingface.co/smartywu/big-lama/resolve/main/big-lama.zip\n",
    "!unzip big-lama.zip"
   ]
  },
  {
   "cell_type": "code",
   "execution_count": null,
   "metadata": {
    "colab": {
     "base_uri": "https://localhost:8080/"
    },
    "executionInfo": {
     "elapsed": 1499,
     "status": "ok",
     "timestamp": 1733504317857,
     "user": {
      "displayName": "Jiayun Liu",
      "userId": "16866032985979885782"
     },
     "user_tz": -60
    },
    "id": "MohgKu6AlVwM",
    "outputId": "0c684690-16d0-4ed9-90f6-48a20c7394bb"
   },
   "outputs": [],
   "source": [
    "!npm install localtunnel"
   ]
  },
  {
   "cell_type": "code",
   "execution_count": null,
   "metadata": {
    "colab": {
     "base_uri": "https://localhost:8080/"
    },
    "id": "OLf_vRrCln31",
    "outputId": "5637485d-0b6f-44bd-e84b-677f4b1e2786"
   },
   "outputs": [],
   "source": [
    "# Click url and paste the Google Colab IP\n",
    "!streamlit run MangaQuick.py &> logs.txt & npx localtunnel --port 8501 & curl ipv4.icanhazip.com"
   ]
  }
 ],
 "metadata": {
  "accelerator": "GPU",
  "colab": {
   "authorship_tag": "ABX9TyONOF8dceC7mNsrx0hz9bZM",
   "gpuType": "T4",
   "provenance": []
  },
  "kernelspec": {
   "display_name": "Python 3",
   "name": "python3"
  },
  "language_info": {
   "name": "python"
  }
 },
 "nbformat": 4,
 "nbformat_minor": 0
}
